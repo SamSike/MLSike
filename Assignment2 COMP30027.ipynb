{
 "cells": [
  {
   "attachments": {},
   "cell_type": "markdown",
   "metadata": {},
   "source": [
    "Packages:"
   ]
  },
  {
   "cell_type": "code",
   "execution_count": 11,
   "metadata": {},
   "outputs": [],
   "source": [
    "import numpy as np\n",
    "import pandas as pd\n",
    "from sklearn.model_selection import train_test_split\n",
    "from sklearn.metrics import confusion_matrix, accuracy_score, f1_score, r2_score\n",
    "from sklearn.feature_extraction.text import CountVectorizer\n",
    "from sklearn.svm import SVC\n",
    "from sklearn.ensemble import RandomForestClassifier"
   ]
  },
  {
   "attachments": {},
   "cell_type": "markdown",
   "metadata": {},
   "source": [
    "Pre-Processing:"
   ]
  },
  {
   "cell_type": "code",
   "execution_count": 12,
   "metadata": {},
   "outputs": [],
   "source": [
    "book_training_file = \"project_data_files/book_rating_train.csv\"\n",
    "book_testing_file = \"project_data_files/book_rating_test.csv\"\n",
    "\n",
    "train_names_file = \"project_data_files/book_text_features_doc2vec/train_name_doc2vec100.csv\"\n",
    "train_authors_file = \"project_data_files/book_text_features_doc2vec/train_authors_doc2vec20.csv\"\n",
    "train_desc_file = \"project_data_files/book_text_features_doc2vec/train_desc_doc2vec100.csv\"\n",
    "\n",
    "test_names_file = \"project_data_files/book_text_features_doc2vec/test_name_doc2vec100.csv\"\n",
    "test_authors_file = \"project_data_files/book_text_features_doc2vec/test_authors_doc2vec20.csv\"\n",
    "test_desc_file = \"project_data_files/book_text_features_doc2vec/test_desc_doc2vec100.csv\"\n",
    "\n",
    "train_data = pd.read_csv(book_training_file)\n",
    "test_data = pd.read_csv(book_testing_file)\n",
    "\n",
    "word_training_files = [train_names_file, train_authors_file, train_desc_file]\n",
    "word_testing_files = [test_names_file, test_authors_file, test_desc_file]\n",
    "\n",
    "word_train_data = [pd.read_csv(filename, index_col = False, delimiter = ',', header=None) for filename in word_training_files]\n",
    "word_test_data = [pd.read_csv(filename, index_col = False, delimiter = ',', header=None) for filename in word_testing_files]"
   ]
  },
  {
   "attachments": {},
   "cell_type": "markdown",
   "metadata": {},
   "source": [
    "Evaluation:"
   ]
  },
  {
   "cell_type": "code",
   "execution_count": 13,
   "metadata": {},
   "outputs": [],
   "source": [
    "def evaluate(true_labels, predicted_labels):\n",
    "    confusion = confusion_matrix(true_labels, predicted_labels)\n",
    "    f1_m = f1_score(true_labels, predicted_labels, average=\"micro\")\n",
    "    f1_w = f1_score(true_labels, predicted_labels, average=\"weighted\")\n",
    "    accuracy = accuracy_score(true_labels, predicted_labels)\n",
    "    r2 = r2_score(true_labels, predicted_labels)\n",
    "\n",
    "    print(\"Confusion Matrix :\\n\", confusion)\n",
    "    print(\"Accuracy : \", accuracy)\n",
    "    print(\"R2 Score : \", r2)\n",
    "    print(\"Micro F1 Score : \", f1_m)\n",
    "    print(\"Weighted F1 Score : \", f1_w)"
   ]
  },
  {
   "attachments": {},
   "cell_type": "markdown",
   "metadata": {},
   "source": [
    "Baseline: 0R"
   ]
  },
  {
   "cell_type": "code",
   "execution_count": 14,
   "metadata": {},
   "outputs": [],
   "source": [
    "def zero_R(labels):\n",
    "    ratings, rating_counts = np.unique(labels, return_counts=True)\n",
    "    num_labels = len(labels)\n",
    "\n",
    "    probs = [(rating_counts[i] / num_labels, ratings[i]) for i in range(len(ratings))]\n",
    "    predicted_label = max(probs)[1]\n",
    "    predicted_labels = [predicted_label] * len(labels)\n",
    "    return predicted_labels"
   ]
  },
  {
   "attachments": {},
   "cell_type": "markdown",
   "metadata": {},
   "source": [
    "Comparing:"
   ]
  },
  {
   "cell_type": "code",
   "execution_count": 15,
   "metadata": {},
   "outputs": [
    {
     "name": "stdout",
     "output_type": "stream",
     "text": [
      "Confusion Matrix :\n",
      " [[    0  5864     0]\n",
      " [    0 16208     0]\n",
      " [    0   991     0]]\n",
      "Accuracy :  0.7027706716385552\n",
      "R2 Score :  -0.1767472937401695\n",
      "Micro F1 Score :  0.7027706716385552\n",
      "Weighted F1 Score :  0.5800976316323855\n"
     ]
    }
   ],
   "source": [
    "# 0 -R Baseline\n",
    "evaluate(train_data['rating_label'], zero_R(train_data['rating_label']))"
   ]
  },
  {
   "attachments": {},
   "cell_type": "markdown",
   "metadata": {},
   "source": [
    "Selected Features and Train-Test Split:"
   ]
  },
  {
   "cell_type": "code",
   "execution_count": 16,
   "metadata": {},
   "outputs": [],
   "source": [
    "# selected_features = train_data.columns[:-1]\n",
    "# label = train_data.columns[-1]\n",
    "\n",
    "# feat_train, feat_valid, label_train, label_valid = train_test_split(train_data[selected_features], train_data[label], test_size=0.2, random_state=1169800)\n",
    "\n",
    "# text_features = [\"Name\", \"Authors\", \"Description\"]\n",
    "\n",
    "# vec = CountVectorizer()\n",
    "# feat_train_transformed_m = [vec.fit_transform(feat_train[f]) for f in text_features]\n",
    "# feat_valid_fitted_m = [vec.transform(feat_valid[f]) for f in text_features]"
   ]
  },
  {
   "cell_type": "code",
   "execution_count": 17,
   "metadata": {},
   "outputs": [],
   "source": [
    "# SVM = [SVC()] * len(text_features)\n",
    "# for feat in range(len(text_features)):\n",
    "#     SVM[feat].fit(feat_train_transformed_m[feat].toarray(), label_train)"
   ]
  },
  {
   "cell_type": "code",
   "execution_count": 18,
   "metadata": {},
   "outputs": [],
   "source": [
    "# predicted = []\n",
    "# for SVM_feat in range(len(SVM)):\n",
    "#     predicted.append(SVM_feat.predict(feat_valid_fitted_m[SVM_feat]).toarray())"
   ]
  },
  {
   "cell_type": "code",
   "execution_count": 19,
   "metadata": {},
   "outputs": [],
   "source": [
    "# evaluated = []\n",
    "# for i in range(len(predicted)):\n",
    "#     evaluated.append(evaluate(label_valid, predicted[i]))"
   ]
  },
  {
   "cell_type": "code",
   "execution_count": 93,
   "metadata": {},
   "outputs": [],
   "source": [
    "selected_features = train_data.columns[:-1]\n",
    "label = train_data.columns[-1]\n",
    "\n",
    "text_features = [\"Name\", \"Authors\", \"Description\"]\n",
    "drop = [\"Publisher\", \"Language\"]\n",
    "all_data = train_data[selected_features]\n",
    "for f in text_features:\n",
    "    all_data = all_data.drop(f, axis=1)\n",
    "for f in drop:\n",
    "    all_data = all_data.drop(f, axis=1)\n",
    "for i in range(len(word_testing_files)):\n",
    "    new_column_names = {x:text_features[i] + str(x) for x in word_train_data[i].columns}\n",
    "    all_data = all_data.join(word_train_data[i].rename(columns=new_column_names))"
   ]
  },
  {
   "cell_type": "code",
   "execution_count": 94,
   "metadata": {},
   "outputs": [],
   "source": [
    "feat_train, feat_valid, label_train, label_valid = train_test_split(all_data, train_data[label], test_size=0.2, random_state=1169800)"
   ]
  },
  {
   "attachments": {},
   "cell_type": "markdown",
   "metadata": {},
   "source": [
    "Fit SVM:"
   ]
  },
  {
   "cell_type": "code",
   "execution_count": 95,
   "metadata": {},
   "outputs": [
    {
     "data": {
      "text/html": [
       "<style>#sk-container-id-1 {color: black;background-color: white;}#sk-container-id-1 pre{padding: 0;}#sk-container-id-1 div.sk-toggleable {background-color: white;}#sk-container-id-1 label.sk-toggleable__label {cursor: pointer;display: block;width: 100%;margin-bottom: 0;padding: 0.3em;box-sizing: border-box;text-align: center;}#sk-container-id-1 label.sk-toggleable__label-arrow:before {content: \"▸\";float: left;margin-right: 0.25em;color: #696969;}#sk-container-id-1 label.sk-toggleable__label-arrow:hover:before {color: black;}#sk-container-id-1 div.sk-estimator:hover label.sk-toggleable__label-arrow:before {color: black;}#sk-container-id-1 div.sk-toggleable__content {max-height: 0;max-width: 0;overflow: hidden;text-align: left;background-color: #f0f8ff;}#sk-container-id-1 div.sk-toggleable__content pre {margin: 0.2em;color: black;border-radius: 0.25em;background-color: #f0f8ff;}#sk-container-id-1 input.sk-toggleable__control:checked~div.sk-toggleable__content {max-height: 200px;max-width: 100%;overflow: auto;}#sk-container-id-1 input.sk-toggleable__control:checked~label.sk-toggleable__label-arrow:before {content: \"▾\";}#sk-container-id-1 div.sk-estimator input.sk-toggleable__control:checked~label.sk-toggleable__label {background-color: #d4ebff;}#sk-container-id-1 div.sk-label input.sk-toggleable__control:checked~label.sk-toggleable__label {background-color: #d4ebff;}#sk-container-id-1 input.sk-hidden--visually {border: 0;clip: rect(1px 1px 1px 1px);clip: rect(1px, 1px, 1px, 1px);height: 1px;margin: -1px;overflow: hidden;padding: 0;position: absolute;width: 1px;}#sk-container-id-1 div.sk-estimator {font-family: monospace;background-color: #f0f8ff;border: 1px dotted black;border-radius: 0.25em;box-sizing: border-box;margin-bottom: 0.5em;}#sk-container-id-1 div.sk-estimator:hover {background-color: #d4ebff;}#sk-container-id-1 div.sk-parallel-item::after {content: \"\";width: 100%;border-bottom: 1px solid gray;flex-grow: 1;}#sk-container-id-1 div.sk-label:hover label.sk-toggleable__label {background-color: #d4ebff;}#sk-container-id-1 div.sk-serial::before {content: \"\";position: absolute;border-left: 1px solid gray;box-sizing: border-box;top: 0;bottom: 0;left: 50%;z-index: 0;}#sk-container-id-1 div.sk-serial {display: flex;flex-direction: column;align-items: center;background-color: white;padding-right: 0.2em;padding-left: 0.2em;position: relative;}#sk-container-id-1 div.sk-item {position: relative;z-index: 1;}#sk-container-id-1 div.sk-parallel {display: flex;align-items: stretch;justify-content: center;background-color: white;position: relative;}#sk-container-id-1 div.sk-item::before, #sk-container-id-1 div.sk-parallel-item::before {content: \"\";position: absolute;border-left: 1px solid gray;box-sizing: border-box;top: 0;bottom: 0;left: 50%;z-index: -1;}#sk-container-id-1 div.sk-parallel-item {display: flex;flex-direction: column;z-index: 1;position: relative;background-color: white;}#sk-container-id-1 div.sk-parallel-item:first-child::after {align-self: flex-end;width: 50%;}#sk-container-id-1 div.sk-parallel-item:last-child::after {align-self: flex-start;width: 50%;}#sk-container-id-1 div.sk-parallel-item:only-child::after {width: 0;}#sk-container-id-1 div.sk-dashed-wrapped {border: 1px dashed gray;margin: 0 0.4em 0.5em 0.4em;box-sizing: border-box;padding-bottom: 0.4em;background-color: white;}#sk-container-id-1 div.sk-label label {font-family: monospace;font-weight: bold;display: inline-block;line-height: 1.2em;}#sk-container-id-1 div.sk-label-container {text-align: center;}#sk-container-id-1 div.sk-container {/* jupyter's `normalize.less` sets `[hidden] { display: none; }` but bootstrap.min.css set `[hidden] { display: none !important; }` so we also need the `!important` here to be able to override the default hidden behavior on the sphinx rendered scikit-learn.org. See: https://github.com/scikit-learn/scikit-learn/issues/21755 */display: inline-block !important;position: relative;}#sk-container-id-1 div.sk-text-repr-fallback {display: none;}</style><div id=\"sk-container-id-1\" class=\"sk-top-container\"><div class=\"sk-text-repr-fallback\"><pre>SVC()</pre><b>In a Jupyter environment, please rerun this cell to show the HTML representation or trust the notebook. <br />On GitHub, the HTML representation is unable to render, please try loading this page with nbviewer.org.</b></div><div class=\"sk-container\" hidden><div class=\"sk-item\"><div class=\"sk-estimator sk-toggleable\"><input class=\"sk-toggleable__control sk-hidden--visually\" id=\"sk-estimator-id-1\" type=\"checkbox\" checked><label for=\"sk-estimator-id-1\" class=\"sk-toggleable__label sk-toggleable__label-arrow\">SVC</label><div class=\"sk-toggleable__content\"><pre>SVC()</pre></div></div></div></div></div>"
      ],
      "text/plain": [
       "SVC()"
      ]
     },
     "execution_count": 95,
     "metadata": {},
     "output_type": "execute_result"
    }
   ],
   "source": [
    "SVM = SVC()\n",
    "SVM.fit(feat_train, label_train)"
   ]
  },
  {
   "attachments": {},
   "cell_type": "markdown",
   "metadata": {},
   "source": [
    "Random Forest Classifier:"
   ]
  },
  {
   "cell_type": "code",
   "execution_count": 96,
   "metadata": {},
   "outputs": [],
   "source": [
    "RFC = RandomForestClassifier()"
   ]
  },
  {
   "attachments": {},
   "cell_type": "markdown",
   "metadata": {},
   "source": [
    "Predict SVM:"
   ]
  },
  {
   "cell_type": "code",
   "execution_count": 102,
   "metadata": {},
   "outputs": [],
   "source": [
    "Models = [SVM]\n",
    "predicted_labels = []\n",
    "\n",
    "for model in Models:\n",
    "    predicted_labels.append(model.predict(feat_valid))"
   ]
  },
  {
   "cell_type": "code",
   "execution_count": 103,
   "metadata": {},
   "outputs": [
    {
     "name": "stdout",
     "output_type": "stream",
     "text": [
      "Confusion Matrix :\n",
      " [[   0 1169    0]\n",
      " [   0 3235    0]\n",
      " [   0  209    0]]\n",
      "Accuracy :  0.7012789941469759\n",
      "R2 Score :  -0.16956406066183694\n",
      "Micro F1 Score :  0.7012789941469759\n",
      "Weighted F1 Score :  0.5781441248892627\n"
     ]
    }
   ],
   "source": [
    "evaluate(label_valid, predicted_labels[0])"
   ]
  }
 ],
 "metadata": {
  "kernelspec": {
   "display_name": "Python 3",
   "language": "python",
   "name": "python3"
  },
  "language_info": {
   "codemirror_mode": {
    "name": "ipython",
    "version": 3
   },
   "file_extension": ".py",
   "mimetype": "text/x-python",
   "name": "python",
   "nbconvert_exporter": "python",
   "pygments_lexer": "ipython3",
   "version": "3.10.11"
  },
  "orig_nbformat": 4
 },
 "nbformat": 4,
 "nbformat_minor": 2
}
